{
 "cells": [
  {
   "cell_type": "code",
   "execution_count": 1,
   "id": "4440f6ce-bb55-4c50-bcd8-3a58c6f9d2f2",
   "metadata": {},
   "outputs": [],
   "source": [
    "import pickle"
   ]
  },
  {
   "cell_type": "code",
   "execution_count": 2,
   "id": "11868b25-c04e-43ba-a3a0-996e904f8257",
   "metadata": {},
   "outputs": [],
   "source": [
    "loaded_model=pickle.load(open(\"Finalized_Multi_Linear.sav\",'rb'))"
   ]
  },
  {
   "cell_type": "code",
   "execution_count": 3,
   "id": "7a9e5c0f-424d-41be-8d4a-35c791132833",
   "metadata": {},
   "outputs": [
    {
     "name": "stdin",
     "output_type": "stream",
     "text": [
      "Enter R&D Spend:  2222.34\n",
      "Enter Administration Spend:  3333.45\n",
      "Enter Marketing Spend:  444.45\n",
      "Enter State Florida: 0 or 1  1\n",
      "Enter State New York: 0 or 1  0\n"
     ]
    }
   ],
   "source": [
    "# Get input from user\n",
    "rd_spend = float(input(\"Enter R&D Spend: \"))\n",
    "admin = float(input(\"Enter Administration Spend: \"))\n",
    "marketing = float(input(\"Enter Marketing Spend: \"))\n",
    "state1 = int(input(\"Enter State Florida: 0 or 1 \"))\n",
    "state2 = int(input(\"Enter State New York: 0 or 1 \"))"
   ]
  },
  {
   "cell_type": "code",
   "execution_count": null,
   "id": "70803143-13f2-41d4-862b-27ac62194d8d",
   "metadata": {},
   "outputs": [],
   "source": []
  }
 ],
 "metadata": {
  "kernelspec": {
   "display_name": "Python [conda env:base] *",
   "language": "python",
   "name": "conda-base-py"
  },
  "language_info": {
   "codemirror_mode": {
    "name": "ipython",
    "version": 3
   },
   "file_extension": ".py",
   "mimetype": "text/x-python",
   "name": "python",
   "nbconvert_exporter": "python",
   "pygments_lexer": "ipython3",
   "version": "3.12.7"
  }
 },
 "nbformat": 4,
 "nbformat_minor": 5
}
