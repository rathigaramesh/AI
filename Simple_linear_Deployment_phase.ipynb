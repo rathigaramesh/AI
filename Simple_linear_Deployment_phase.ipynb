{
 "cells": [
  {
   "cell_type": "code",
   "execution_count": 6,
   "id": "74e44089-dd9c-4a7e-a5df-1a8ccc1e083f",
   "metadata": {},
   "outputs": [],
   "source": [
    "import pickle"
   ]
  },
  {
   "cell_type": "code",
   "execution_count": 11,
   "id": "2347cf81-fe93-48b9-bdb1-a000dae59438",
   "metadata": {},
   "outputs": [
    {
     "name": "stdin",
     "output_type": "stream",
     "text": [
      "Enter your value:  5\n"
     ]
    }
   ],
   "source": [
    "#check the model before deployment\n",
    "loaded_model=pickle.load(open(\"Finalized_Linear_Model.sav\",'rb'))\n",
    "         # Get input from user\n",
    "getinput = int(input(\"Enter your value: \"))"
   ]
  },
  {
   "cell_type": "code",
   "execution_count": 14,
   "id": "a4c803f2-df71-4d44-aa18-f53564260540",
   "metadata": {},
   "outputs": [
    {
     "name": "stdout",
     "output_type": "stream",
     "text": [
      "Prediction result: [73042.01180594]\n"
     ]
    },
    {
     "name": "stderr",
     "output_type": "stream",
     "text": [
      "C:\\Users\\User\\anaconda3\\Lib\\site-packages\\sklearn\\base.py:493: UserWarning: X does not have valid feature names, but LinearRegression was fitted with feature names\n",
      "  warnings.warn(\n"
     ]
    }
   ],
   "source": [
    "# Use the input value for prediction\n",
    "result = loaded_model.predict([[getinput]])\n",
    "print(\"Prediction result:\", result[0])"
   ]
  },
  {
   "cell_type": "code",
   "execution_count": null,
   "id": "de696e16-cb02-437a-bc1e-9577c2de9e58",
   "metadata": {},
   "outputs": [],
   "source": []
  }
 ],
 "metadata": {
  "kernelspec": {
   "display_name": "Python [conda env:base] *",
   "language": "python",
   "name": "conda-base-py"
  },
  "language_info": {
   "codemirror_mode": {
    "name": "ipython",
    "version": 3
   },
   "file_extension": ".py",
   "mimetype": "text/x-python",
   "name": "python",
   "nbconvert_exporter": "python",
   "pygments_lexer": "ipython3",
   "version": "3.12.7"
  }
 },
 "nbformat": 4,
 "nbformat_minor": 5
}
