{
 "cells": [
  {
   "cell_type": "code",
   "execution_count": null,
   "id": "061d8a93-cbe9-4c2e-b4a2-2ba095ced385",
   "metadata": {},
   "outputs": [],
   "source": [
    "#class\n"
   ]
  },
  {
   "cell_type": "code",
   "execution_count": 2,
   "id": "ef7417ab-14f5-4b43-91d0-a376d0b21328",
   "metadata": {},
   "outputs": [
    {
     "name": "stdout",
     "output_type": "stream",
     "text": [
      "<class 'float'>\n"
     ]
    }
   ],
   "source": [
    "a=42.9\n",
    "print(type(a))"
   ]
  },
  {
   "cell_type": "code",
   "execution_count": 6,
   "id": "861066bc-ac2a-4094-a751-c975b65d0420",
   "metadata": {},
   "outputs": [
    {
     "name": "stdout",
     "output_type": "stream",
     "text": [
      "(3, 6, 9)\n"
     ]
    }
   ],
   "source": [
    "numbers = (1, 2, 3, 4, 5, 6, 7, 8, 9)\n",
    "divisible_by_3 = tuple(filter(lambda x: x % 3 == 0, numbers))\n",
    "print(divisible_by_3)"
   ]
  },
  {
   "cell_type": "code",
   "execution_count": 7,
   "id": "e871f3cf-a5b8-4c7d-bf36-6729a6145232",
   "metadata": {},
   "outputs": [
    {
     "name": "stdout",
     "output_type": "stream",
     "text": [
      "pyPRO\n"
     ]
    }
   ],
   "source": [
    "print(\"py\"+\"PRO\")"
   ]
  },
  {
   "cell_type": "code",
   "execution_count": null,
   "id": "c06a80e1-6e35-4119-a1ea-de09f2e95e4f",
   "metadata": {},
   "outputs": [],
   "source": []
  }
 ],
 "metadata": {
  "kernelspec": {
   "display_name": "Python [conda env:base] *",
   "language": "python",
   "name": "conda-base-py"
  },
  "language_info": {
   "codemirror_mode": {
    "name": "ipython",
    "version": 3
   },
   "file_extension": ".py",
   "mimetype": "text/x-python",
   "name": "python",
   "nbconvert_exporter": "python",
   "pygments_lexer": "ipython3",
   "version": "3.12.7"
  }
 },
 "nbformat": 4,
 "nbformat_minor": 5
}
