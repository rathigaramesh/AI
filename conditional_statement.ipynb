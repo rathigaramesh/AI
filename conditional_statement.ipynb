{
 "cells": [
  {
   "cell_type": "code",
   "execution_count": 1,
   "id": "3904c652-78fd-4729-9bd0-1ca5b27789a7",
   "metadata": {},
   "outputs": [
    {
     "name": "stdin",
     "output_type": "stream",
     "text": [
      "Enter your age: 15\n"
     ]
    },
    {
     "name": "stdout",
     "output_type": "stream",
     "text": [
      "Age is not valid\n"
     ]
    }
   ],
   "source": [
    "age = int( input(\"Enter your age:\"))\n",
    "if (age>18):\n",
    "    print(\"AGE is valid\")\n",
    "else:\n",
    "    print(\"Age is not valid\")"
   ]
  },
  {
   "cell_type": "code",
   "execution_count": 3,
   "id": "e7c85bf7-9970-4d48-a205-24f1264d60b2",
   "metadata": {},
   "outputs": [
    {
     "name": "stdin",
     "output_type": "stream",
     "text": [
      "Enter your age: 18\n"
     ]
    },
    {
     "name": "stdout",
     "output_type": "stream",
     "text": [
      "AGE is valid\n"
     ]
    }
   ],
   "source": [
    "age = int( input(\"Enter your age:\"))\n",
    "if (age==18):\n",
    "    print(\"AGE is valid\")"
   ]
  },
  {
   "cell_type": "code",
   "execution_count": 7,
   "id": "1f0fa76e-c4bb-4a24-a881-e5d78dc01859",
   "metadata": {},
   "outputs": [
    {
     "name": "stdin",
     "output_type": "stream",
     "text": [
      "Enter your age: 89\n"
     ]
    },
    {
     "name": "stdout",
     "output_type": "stream",
     "text": [
      "age is not idenfied else condition\n"
     ]
    }
   ],
   "source": [
    "age = int( input(\"Enter your age:\"))\n",
    "if (age==10):\n",
    "    print(\"AGE is 10\")\n",
    "elif(age==12):\n",
    "    print(\"Age is 12\")\n",
    "elif(age==60):\n",
    "  print(\"Age is 60\")\n",
    "else:\n",
    "    print(\"age is not idenfied else condition\")"
   ]
  },
  {
   "cell_type": "code",
   "execution_count": 13,
   "id": "d0204e7e-8d03-4094-9a63-9d157273970f",
   "metadata": {},
   "outputs": [
    {
     "name": "stdout",
     "output_type": "stream",
     "text": [
      "12\n",
      "11\n",
      "34\n",
      "56\n"
     ]
    }
   ],
   "source": [
    "lists =[12,11,34,56]\n",
    "for getlists in lists:\n",
    "   print(getlists)\n",
    " #getlists -> temporary store data in the list "
   ]
  },
  {
   "cell_type": "code",
   "execution_count": 15,
   "id": "b7e89c7a-5cb3-4e5a-bf5a-669809ccee5e",
   "metadata": {},
   "outputs": [
    {
     "name": "stdout",
     "output_type": "stream",
     "text": [
      "Age is 12\n",
      "age is not idenfied else condition\n",
      "age is not idenfied else condition\n",
      "age is not idenfied else condition\n"
     ]
    }
   ],
   "source": [
    "for age in lists:\n",
    " if(age==10):\n",
    "    print(\"AGE is 10\")\n",
    " elif(age==12):\n",
    "    print(\"Age is 12\")\n",
    " elif(age==60):\n",
    "  print(\"Age is 60\")\n",
    " else:\n",
    "    print(\"age is not idenfied else condition\")"
   ]
  },
  {
   "cell_type": "code",
   "execution_count": 21,
   "id": "db7c13e8-912b-498a-bffa-b505a2ffb21a",
   "metadata": {},
   "outputs": [
    {
     "name": "stdout",
     "output_type": "stream",
     "text": [
      "Range 1\n",
      "Range 2\n",
      "Range 3\n",
      "Range 4\n",
      "Range 5\n",
      "Range 6\n",
      "Range 7\n",
      "Range 8\n",
      "Range 9\n"
     ]
    }
   ],
   "source": [
    "for num in range(1,10):\n",
    "     print(\"Range\", num)"
   ]
  },
  {
   "cell_type": "code",
   "execution_count": 22,
   "id": "a6f3c6b2-06ab-4879-abb1-083654caf40d",
   "metadata": {},
   "outputs": [
    {
     "name": "stdout",
     "output_type": "stream",
     "text": [
      "Range 1\n",
      "Range 4\n",
      "Range 7\n"
     ]
    }
   ],
   "source": [
    "for num in range(1,10,3):\n",
    "     print(\"Range\", num)"
   ]
  },
  {
   "cell_type": "code",
   "execution_count": 24,
   "id": "13772f36-652f-45b7-b4c7-3d53cb7d6d74",
   "metadata": {},
   "outputs": [
    {
     "name": "stdin",
     "output_type": "stream",
     "text": [
      "Num1 = 10\n",
      "Num2 = 30\n"
     ]
    },
    {
     "name": "stdout",
     "output_type": "stream",
     "text": [
      "ADD = 40\n"
     ]
    }
   ],
   "source": [
    "num1 =int(input(\"Num1 =\"))\n",
    "num2 =int(input(\"Num2 =\"))\n",
    "add = num1+num2\n",
    "print(\"ADD =\", add)\n",
    "\n"
   ]
  },
  {
   "cell_type": "code",
   "execution_count": null,
   "id": "650e96c9-c8ac-47de-9fac-086034bbb88e",
   "metadata": {},
   "outputs": [],
   "source": []
  }
 ],
 "metadata": {
  "kernelspec": {
   "display_name": "Python [conda env:base] *",
   "language": "python",
   "name": "conda-base-py"
  },
  "language_info": {
   "codemirror_mode": {
    "name": "ipython",
    "version": 3
   },
   "file_extension": ".py",
   "mimetype": "text/x-python",
   "name": "python",
   "nbconvert_exporter": "python",
   "pygments_lexer": "ipython3",
   "version": "3.12.7"
  }
 },
 "nbformat": 4,
 "nbformat_minor": 5
}
