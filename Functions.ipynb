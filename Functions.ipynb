{
 "cells": [
  {
   "cell_type": "code",
   "execution_count": 1,
   "id": "d654c722-f206-491f-bfb4-54abbcfe0eed",
   "metadata": {},
   "outputs": [],
   "source": [
    "lists=[10,23,45,67,89,90]\n"
   ]
  },
  {
   "cell_type": "code",
   "execution_count": 10,
   "id": "e18ba374-2ccd-4d06-a8d0-ebc737f4a30b",
   "metadata": {},
   "outputs": [],
   "source": [
    "def Ageclassify():\n",
    "    for age in lists:\n",
    "        if(age<18):\n",
    "            print(\"Below 18 catagory\")\n",
    "        elif(age<35):\n",
    "            print(\"Below 35 catagory\")\n",
    "        elif(age<59):\n",
    "           print(\"Below 59 catagory\")\n",
    "        else:\n",
    "           print(\"Above 59 catagoty\")\n"
   ]
  },
  {
   "cell_type": "code",
   "execution_count": 11,
   "id": "4d11c49a-0e5c-4472-8906-a6ac5460634d",
   "metadata": {},
   "outputs": [
    {
     "name": "stdout",
     "output_type": "stream",
     "text": [
      "Below 18 catagory\n",
      "Below 35 catagory\n",
      "Below 59 catagory\n",
      "Above 59 catagoty\n",
      "Above 59 catagoty\n",
      "Above 59 catagoty\n"
     ]
    }
   ],
   "source": [
    "Ageclassify()"
   ]
  },
  {
   "cell_type": "code",
   "execution_count": 1,
   "id": "074c5116-2e06-4e4b-a689-7bdf5a83b491",
   "metadata": {},
   "outputs": [
    {
     "name": "stdin",
     "output_type": "stream",
     "text": [
      "Enter your age 40\n"
     ]
    }
   ],
   "source": [
    "age = int(input(\"Enter your age\"))\n"
   ]
  },
  {
   "cell_type": "code",
   "execution_count": 22,
   "id": "b521a91a-679a-4bc5-9b74-e6857f444d34",
   "metadata": {},
   "outputs": [],
   "source": [
    "def Ageclassify():\n",
    "        if(age<18):\n",
    "              print(\"Below 18 catagory\")\n",
    "              cat = \"18 Catagory\"\n",
    "        elif(age<35):\n",
    "             print(\"Below 35 catagory\")\n",
    "             cat = \"35 Catagory\"\n",
    "        elif(age<59):\n",
    "             print(\"Below 59 catagory\")\n",
    "             cat = \"59 Catagory\"\n",
    "        else:\n",
    "             print(\"Exception catagory\")\n",
    "             cat = \"Exception cata\"\n",
    "        return cat #if use return save in memory otherwise return null"
   ]
  },
  {
   "cell_type": "code",
   "execution_count": 23,
   "id": "9b88a05a-ce52-445a-8dcc-845ce6cbb47b",
   "metadata": {},
   "outputs": [
    {
     "name": "stdin",
     "output_type": "stream",
     "text": [
      "Enter your age 40\n"
     ]
    },
    {
     "name": "stdout",
     "output_type": "stream",
     "text": [
      "Below 59 catagory\n"
     ]
    }
   ],
   "source": [
    "age = int(input(\"Enter your age\"))\n",
    "agecata =Ageclassify()#call the function with assigning variable"
   ]
  },
  {
   "cell_type": "code",
   "execution_count": null,
   "id": "06ac4251-e827-4d19-9f6d-8079697ea3a9",
   "metadata": {},
   "outputs": [],
   "source": []
  }
 ],
 "metadata": {
  "kernelspec": {
   "display_name": "Python [conda env:base] *",
   "language": "python",
   "name": "conda-base-py"
  },
  "language_info": {
   "codemirror_mode": {
    "name": "ipython",
    "version": 3
   },
   "file_extension": ".py",
   "mimetype": "text/x-python",
   "name": "python",
   "nbconvert_exporter": "python",
   "pygments_lexer": "ipython3",
   "version": "3.12.7"
  }
 },
 "nbformat": 4,
 "nbformat_minor": 5
}
